{
 "cells": [
  {
   "cell_type": "code",
   "execution_count": 1,
   "id": "aa892ed0",
   "metadata": {
    "_cell_guid": "b1076dfc-b9ad-4769-8c92-a6c4dae69d19",
    "_uuid": "8f2839f25d086af736a60e9eeb907d3b93b6e0e5",
    "execution": {
     "iopub.execute_input": "2022-05-13T20:04:11.257699Z",
     "iopub.status.busy": "2022-05-13T20:04:11.257315Z",
     "iopub.status.idle": "2022-05-13T20:04:11.270525Z",
     "shell.execute_reply": "2022-05-13T20:04:11.269911Z"
    },
    "papermill": {
     "duration": 0.068632,
     "end_time": "2022-05-13T20:04:11.272963",
     "exception": false,
     "start_time": "2022-05-13T20:04:11.204331",
     "status": "completed"
    },
    "tags": []
   },
   "outputs": [],
   "source": [
    "# This Python 3 environment comes with many helpful analytics libraries installed\n",
    "# It is defined by the kaggle/python Docker image: https://github.com/kaggle/docker-python\n",
    "# For example, here's several helpful packages to load\n",
    "\n",
    "import numpy as np # linear algebra\n",
    "import pandas as pd # data processing, CSV file I/O (e.g. pd.read_csv)\n",
    "\n",
    "# Input data files are available in the read-only \"../input/\" directory\n",
    "# For example, running this (by clicking run or pressing Shift+Enter) will list all files under the input directory\n",
    "\n",
    "import os\n",
    "\n",
    "\n",
    "# You can write up to 20GB to the current directory (/kaggle/working/) that gets preserved as output when you create a version using \"Save & Run All\" \n",
    "# You can also write temporary files to /kaggle/temp/, but they won't be saved outside of the current session"
   ]
  },
  {
   "cell_type": "code",
   "execution_count": 2,
   "id": "2ce078c7",
   "metadata": {
    "execution": {
     "iopub.execute_input": "2022-05-13T20:04:11.339449Z",
     "iopub.status.busy": "2022-05-13T20:04:11.339203Z",
     "iopub.status.idle": "2022-05-13T20:04:12.875043Z",
     "shell.execute_reply": "2022-05-13T20:04:12.874201Z"
    },
    "papermill": {
     "duration": 1.567557,
     "end_time": "2022-05-13T20:04:12.877921",
     "exception": false,
     "start_time": "2022-05-13T20:04:11.310364",
     "status": "completed"
    },
    "tags": []
   },
   "outputs": [],
   "source": [
    "import cv2\n",
    "import matplotlib.pyplot as plt\n",
    "import pickle\n",
    "import random\n",
    "from sklearn.model_selection import train_test_split\n",
    "from sklearn.svm import SVC\n",
    "from sklearn import metrics\n",
    "from sklearn.metrics import confusion_matrix\n",
    "import seaborn as sns\n",
    "from sklearn.metrics import accuracy_score\n",
    "from sklearn.ensemble import RandomForestClassifier\n",
    "from vecstack import stacking\n",
    "from xgboost import XGBClassifier"
   ]
  },
  {
   "cell_type": "code",
   "execution_count": 3,
   "id": "111733f8",
   "metadata": {
    "execution": {
     "iopub.execute_input": "2022-05-13T20:04:12.985244Z",
     "iopub.status.busy": "2022-05-13T20:04:12.984852Z",
     "iopub.status.idle": "2022-05-13T20:04:12.989058Z",
     "shell.execute_reply": "2022-05-13T20:04:12.988385Z"
    },
    "papermill": {
     "duration": 0.057613,
     "end_time": "2022-05-13T20:04:12.993771",
     "exception": false,
     "start_time": "2022-05-13T20:04:12.936158",
     "status": "completed"
    },
    "tags": []
   },
   "outputs": [],
   "source": [
    "dir = '../input/classification/Face Mask Dataset - Copy'\n"
   ]
  },
  {
   "cell_type": "code",
   "execution_count": 4,
   "id": "0f057288",
   "metadata": {
    "execution": {
     "iopub.execute_input": "2022-05-13T20:04:13.088794Z",
     "iopub.status.busy": "2022-05-13T20:04:13.088512Z",
     "iopub.status.idle": "2022-05-13T20:04:13.092177Z",
     "shell.execute_reply": "2022-05-13T20:04:13.091580Z"
    },
    "papermill": {
     "duration": 0.053345,
     "end_time": "2022-05-13T20:04:13.095823",
     "exception": false,
     "start_time": "2022-05-13T20:04:13.042478",
     "status": "completed"
    },
    "tags": []
   },
   "outputs": [],
   "source": [
    "Class=['WithMask', 'WithoutMask']\n",
    "data = []"
   ]
  },
  {
   "cell_type": "code",
   "execution_count": 5,
   "id": "c2f1d4cc",
   "metadata": {
    "execution": {
     "iopub.execute_input": "2022-05-13T20:04:13.187326Z",
     "iopub.status.busy": "2022-05-13T20:04:13.187079Z",
     "iopub.status.idle": "2022-05-13T20:05:06.774933Z",
     "shell.execute_reply": "2022-05-13T20:05:06.774165Z"
    },
    "papermill": {
     "duration": 53.636182,
     "end_time": "2022-05-13T20:05:06.777183",
     "exception": false,
     "start_time": "2022-05-13T20:04:13.141001",
     "status": "completed"
    },
    "tags": []
   },
   "outputs": [],
   "source": [
    "for i in Class:\n",
    "    path = os.path.join(dir,i)\n",
    "    label = Class.index(i)\n",
    "\n",
    "    for img in os.listdir(path):\n",
    "        impath = os.path.join(path,img)\n",
    "        mask_img=cv2.imread(impath,0)\n",
    "        mask_img=cv2.resize(mask_img,(128,128))\n",
    "        image = np.array(mask_img).flatten()\n",
    "        \n",
    "        data.append([image,label])"
   ]
  },
  {
   "cell_type": "code",
   "execution_count": 6,
   "id": "76e7bef4",
   "metadata": {
    "execution": {
     "iopub.execute_input": "2022-05-13T20:05:06.836957Z",
     "iopub.status.busy": "2022-05-13T20:05:06.836716Z",
     "iopub.status.idle": "2022-05-13T20:05:06.841316Z",
     "shell.execute_reply": "2022-05-13T20:05:06.840483Z"
    },
    "papermill": {
     "duration": 0.036391,
     "end_time": "2022-05-13T20:05:06.844633",
     "exception": false,
     "start_time": "2022-05-13T20:05:06.808242",
     "status": "completed"
    },
    "tags": []
   },
   "outputs": [
    {
     "name": "stdout",
     "output_type": "stream",
     "text": [
      "10000\n"
     ]
    }
   ],
   "source": [
    "print(len(data))"
   ]
  },
  {
   "cell_type": "code",
   "execution_count": 7,
   "id": "4316405c",
   "metadata": {
    "execution": {
     "iopub.execute_input": "2022-05-13T20:05:06.902400Z",
     "iopub.status.busy": "2022-05-13T20:05:06.902202Z",
     "iopub.status.idle": "2022-05-13T20:05:07.287789Z",
     "shell.execute_reply": "2022-05-13T20:05:07.287012Z"
    },
    "papermill": {
     "duration": 0.416746,
     "end_time": "2022-05-13T20:05:07.290081",
     "exception": false,
     "start_time": "2022-05-13T20:05:06.873335",
     "status": "completed"
    },
    "tags": []
   },
   "outputs": [],
   "source": [
    "pick_in = open('x.pickle','wb')\n",
    "pickle.dump(data,pick_in)\n",
    "pick_in.close()"
   ]
  },
  {
   "cell_type": "code",
   "execution_count": 8,
   "id": "6e92b02e",
   "metadata": {
    "execution": {
     "iopub.execute_input": "2022-05-13T20:05:07.348652Z",
     "iopub.status.busy": "2022-05-13T20:05:07.348079Z",
     "iopub.status.idle": "2022-05-13T20:05:07.540126Z",
     "shell.execute_reply": "2022-05-13T20:05:07.539381Z"
    },
    "papermill": {
     "duration": 0.224169,
     "end_time": "2022-05-13T20:05:07.542583",
     "exception": false,
     "start_time": "2022-05-13T20:05:07.318414",
     "status": "completed"
    },
    "tags": []
   },
   "outputs": [],
   "source": [
    "pick_in = open('x.pickle','rb')\n",
    "data = pickle.load(pick_in)\n",
    "pick_in.close()"
   ]
  },
  {
   "cell_type": "code",
   "execution_count": 9,
   "id": "cb03d329",
   "metadata": {
    "execution": {
     "iopub.execute_input": "2022-05-13T20:05:07.600573Z",
     "iopub.status.busy": "2022-05-13T20:05:07.600363Z",
     "iopub.status.idle": "2022-05-13T20:05:07.612722Z",
     "shell.execute_reply": "2022-05-13T20:05:07.612060Z"
    },
    "papermill": {
     "duration": 0.042836,
     "end_time": "2022-05-13T20:05:07.614383",
     "exception": false,
     "start_time": "2022-05-13T20:05:07.571547",
     "status": "completed"
    },
    "tags": []
   },
   "outputs": [],
   "source": [
    "features = []\n",
    "labels = []\n",
    "random.shuffle(data)"
   ]
  },
  {
   "cell_type": "code",
   "execution_count": 10,
   "id": "aa1e7f79",
   "metadata": {
    "execution": {
     "iopub.execute_input": "2022-05-13T20:05:07.671291Z",
     "iopub.status.busy": "2022-05-13T20:05:07.671078Z",
     "iopub.status.idle": "2022-05-13T20:05:07.680245Z",
     "shell.execute_reply": "2022-05-13T20:05:07.679595Z"
    },
    "papermill": {
     "duration": 0.039712,
     "end_time": "2022-05-13T20:05:07.681992",
     "exception": false,
     "start_time": "2022-05-13T20:05:07.642280",
     "status": "completed"
    },
    "tags": []
   },
   "outputs": [],
   "source": [
    "for feature, label in data:\n",
    "    features.append(feature)\n",
    "    labels.append(label)"
   ]
  },
  {
   "cell_type": "code",
   "execution_count": 11,
   "id": "13c3b5b3",
   "metadata": {
    "execution": {
     "iopub.execute_input": "2022-05-13T20:05:07.739535Z",
     "iopub.status.busy": "2022-05-13T20:05:07.739327Z",
     "iopub.status.idle": "2022-05-13T20:05:07.749480Z",
     "shell.execute_reply": "2022-05-13T20:05:07.748822Z"
    },
    "papermill": {
     "duration": 0.040935,
     "end_time": "2022-05-13T20:05:07.751232",
     "exception": false,
     "start_time": "2022-05-13T20:05:07.710297",
     "status": "completed"
    },
    "tags": []
   },
   "outputs": [],
   "source": [
    "xtrain, xtest, ytrain, ytest = train_test_split(features, labels, test_size = 0.25)"
   ]
  },
  {
   "cell_type": "code",
   "execution_count": 12,
   "id": "f20a9283",
   "metadata": {
    "execution": {
     "iopub.execute_input": "2022-05-13T20:05:07.821059Z",
     "iopub.status.busy": "2022-05-13T20:05:07.820747Z",
     "iopub.status.idle": "2022-05-13T20:07:56.923574Z",
     "shell.execute_reply": "2022-05-13T20:07:56.922766Z"
    },
    "papermill": {
     "duration": 169.170258,
     "end_time": "2022-05-13T20:07:56.949483",
     "exception": false,
     "start_time": "2022-05-13T20:05:07.779225",
     "status": "completed"
    },
    "tags": []
   },
   "outputs": [
    {
     "data": {
      "text/plain": [
       "SVC(C=1, gamma='auto', kernel='poly')"
      ]
     },
     "execution_count": 12,
     "metadata": {},
     "output_type": "execute_result"
    }
   ],
   "source": [
    "model = SVC(C=1, gamma = 'auto', kernel = 'poly')\n",
    "model.fit(xtrain, ytrain)"
   ]
  },
  {
   "cell_type": "code",
   "execution_count": 13,
   "id": "92894cf1",
   "metadata": {
    "execution": {
     "iopub.execute_input": "2022-05-13T20:07:57.006750Z",
     "iopub.status.busy": "2022-05-13T20:07:57.006511Z",
     "iopub.status.idle": "2022-05-13T20:07:57.285051Z",
     "shell.execute_reply": "2022-05-13T20:07:57.284290Z"
    },
    "papermill": {
     "duration": 0.309602,
     "end_time": "2022-05-13T20:07:57.287151",
     "exception": false,
     "start_time": "2022-05-13T20:07:56.977549",
     "status": "completed"
    },
    "tags": []
   },
   "outputs": [],
   "source": [
    "pick = open('model_25.sav','wb')\n",
    "pickle.dump(model,pick)\n",
    "pick.close()"
   ]
  },
  {
   "cell_type": "code",
   "execution_count": 14,
   "id": "eef3c3c2",
   "metadata": {
    "execution": {
     "iopub.execute_input": "2022-05-13T20:07:57.345755Z",
     "iopub.status.busy": "2022-05-13T20:07:57.345085Z",
     "iopub.status.idle": "2022-05-13T20:09:19.348540Z",
     "shell.execute_reply": "2022-05-13T20:09:19.347680Z"
    },
    "papermill": {
     "duration": 82.077371,
     "end_time": "2022-05-13T20:09:19.392976",
     "exception": false,
     "start_time": "2022-05-13T20:07:57.315605",
     "status": "completed"
    },
    "tags": []
   },
   "outputs": [
    {
     "name": "stdout",
     "output_type": "stream",
     "text": [
      "WithMask\n"
     ]
    }
   ],
   "source": [
    "pred = model.predict(xtest)\n",
    "acc = model.score(xtest,ytest)\n",
    "print(Class[pred[34]])"
   ]
  },
  {
   "cell_type": "code",
   "execution_count": 15,
   "id": "97079eee",
   "metadata": {
    "execution": {
     "iopub.execute_input": "2022-05-13T20:09:19.482286Z",
     "iopub.status.busy": "2022-05-13T20:09:19.482049Z",
     "iopub.status.idle": "2022-05-13T20:09:19.703544Z",
     "shell.execute_reply": "2022-05-13T20:09:19.702876Z"
    },
    "papermill": {
     "duration": 0.261208,
     "end_time": "2022-05-13T20:09:19.706139",
     "exception": false,
     "start_time": "2022-05-13T20:09:19.444931",
     "status": "completed"
    },
    "tags": []
   },
   "outputs": [
    {
     "data": {
      "text/plain": [
       "<function matplotlib.pyplot.show(close=None, block=None)>"
      ]
     },
     "execution_count": 15,
     "metadata": {},
     "output_type": "execute_result"
    },
    {
     "data": {
      "image/png": "[encoded data removed]",
      "text/plain": [
       "<Figure size 432x288 with 1 Axes>"
      ]
     },
     "metadata": {
      "needs_background": "light"
     },
     "output_type": "display_data"
    }
   ],
   "source": [
    "mask= xtest[34].reshape(128,128)\n",
    "plt.imshow(mask)\n",
    "plt.show"
   ]
  },
  {
   "cell_type": "code",
   "execution_count": 16,
   "id": "8a232174",
   "metadata": {
    "execution": {
     "iopub.execute_input": "2022-05-13T20:09:19.769325Z",
     "iopub.status.busy": "2022-05-13T20:09:19.769101Z",
     "iopub.status.idle": "2022-05-13T20:09:19.984682Z",
     "shell.execute_reply": "2022-05-13T20:09:19.983963Z"
    },
    "papermill": {
     "duration": 0.24943,
     "end_time": "2022-05-13T20:09:19.986432",
     "exception": false,
     "start_time": "2022-05-13T20:09:19.737002",
     "status": "completed"
    },
    "tags": []
   },
   "outputs": [
    {
     "name": "stdout",
     "output_type": "stream",
     "text": [
      "              precision    recall  f1-score   support\n",
      "\n",
      "           0       0.93      0.83      0.87      1260\n",
      "           1       0.84      0.93      0.89      1240\n",
      "\n",
      "    accuracy                           0.88      2500\n",
      "   macro avg       0.88      0.88      0.88      2500\n",
      "weighted avg       0.88      0.88      0.88      2500\n",
      "\n"
     ]
    },
    {
     "data": {
      "image/png": "[encoded data removed]",
      "text/plain": [
       "<Figure size 648x648 with 2 Axes>"
      ]
     },
     "metadata": {
      "needs_background": "light"
     },
     "output_type": "display_data"
    }
   ],
   "source": [
    "cm = metrics.confusion_matrix(ytest, pred)\n",
    "\n",
    "plt.figure(figsize=(9, 9))\n",
    "sns.heatmap(cm, annot=True, fmt='.0f', square=True, linewidths=.5, cmap='Blues_r')\n",
    "plt.ylabel('Actual Label')\n",
    "plt.xlabel('Predicted Label')\n",
    "\n",
    "print(metrics.classification_report(ytest, pred))"
   ]
  },
  {
   "cell_type": "code",
   "execution_count": 17,
   "id": "5227d5e0",
   "metadata": {
    "execution": {
     "iopub.execute_input": "2022-05-13T20:09:20.052823Z",
     "iopub.status.busy": "2022-05-13T20:09:20.052590Z",
     "iopub.status.idle": "2022-05-13T20:09:20.056285Z",
     "shell.execute_reply": "2022-05-13T20:09:20.055585Z"
    },
    "papermill": {
     "duration": 0.038771,
     "end_time": "2022-05-13T20:09:20.058079",
     "exception": false,
     "start_time": "2022-05-13T20:09:20.019308",
     "status": "completed"
    },
    "tags": []
   },
   "outputs": [],
   "source": [
    "rf=RandomForestClassifier(n_estimators=500, min_samples_split = 20, max_features = 5)"
   ]
  },
  {
   "cell_type": "code",
   "execution_count": 18,
   "id": "cc21ec49",
   "metadata": {
    "execution": {
     "iopub.execute_input": "2022-05-13T20:09:20.126997Z",
     "iopub.status.busy": "2022-05-13T20:09:20.126408Z",
     "iopub.status.idle": "2022-05-13T20:09:34.170273Z",
     "shell.execute_reply": "2022-05-13T20:09:34.169547Z"
    },
    "papermill": {
     "duration": 14.080433,
     "end_time": "2022-05-13T20:09:34.171979",
     "exception": false,
     "start_time": "2022-05-13T20:09:20.091546",
     "status": "completed"
    },
    "tags": []
   },
   "outputs": [
    {
     "data": {
      "text/plain": [
       "RandomForestClassifier(max_features=5, min_samples_split=20, n_estimators=500)"
      ]
     },
     "execution_count": 18,
     "metadata": {},
     "output_type": "execute_result"
    }
   ],
   "source": [
    "rf.fit(xtrain, ytrain)"
   ]
  },
  {
   "cell_type": "code",
   "execution_count": 19,
   "id": "d04c5d89",
   "metadata": {
    "execution": {
     "iopub.execute_input": "2022-05-13T20:09:34.237715Z",
     "iopub.status.busy": "2022-05-13T20:09:34.237496Z",
     "iopub.status.idle": "2022-05-13T20:09:34.300109Z",
     "shell.execute_reply": "2022-05-13T20:09:34.299392Z"
    },
    "papermill": {
     "duration": 0.097512,
     "end_time": "2022-05-13T20:09:34.301981",
     "exception": false,
     "start_time": "2022-05-13T20:09:34.204469",
     "status": "completed"
    },
    "tags": []
   },
   "outputs": [],
   "source": [
    "pick = open('rf_model_20.sav','wb')\n",
    "pickle.dump(rf,pick)\n",
    "pick.close()"
   ]
  },
  {
   "cell_type": "code",
   "execution_count": 20,
   "id": "2f3b867b",
   "metadata": {
    "execution": {
     "iopub.execute_input": "2022-05-13T20:09:34.367305Z",
     "iopub.status.busy": "2022-05-13T20:09:34.367098Z",
     "iopub.status.idle": "2022-05-13T20:09:35.486822Z",
     "shell.execute_reply": "2022-05-13T20:09:35.485650Z"
    },
    "papermill": {
     "duration": 1.154552,
     "end_time": "2022-05-13T20:09:35.488842",
     "exception": false,
     "start_time": "2022-05-13T20:09:34.334290",
     "status": "completed"
    },
    "tags": []
   },
   "outputs": [
    {
     "name": "stdout",
     "output_type": "stream",
     "text": [
      "WithoutMask\n"
     ]
    }
   ],
   "source": [
    "pred = rf.predict(xtest)\n",
    "acc = rf.score(xtest,ytest)\n",
    "\n",
    "print(Class[pred[90]])"
   ]
  },
  {
   "cell_type": "code",
   "execution_count": 21,
   "id": "54055048",
   "metadata": {
    "execution": {
     "iopub.execute_input": "2022-05-13T20:09:35.558387Z",
     "iopub.status.busy": "2022-05-13T20:09:35.558160Z",
     "iopub.status.idle": "2022-05-13T20:09:35.760571Z",
     "shell.execute_reply": "2022-05-13T20:09:35.759929Z"
    },
    "papermill": {
     "duration": 0.237843,
     "end_time": "2022-05-13T20:09:35.762418",
     "exception": false,
     "start_time": "2022-05-13T20:09:35.524575",
     "status": "completed"
    },
    "tags": []
   },
   "outputs": [
    {
     "data": {
      "text/plain": [
       "<function matplotlib.pyplot.show(close=None, block=None)>"
      ]
     },
     "execution_count": 21,
     "metadata": {},
     "output_type": "execute_result"
    },
    {
     "data": {
      "image/png": "[encoded data removed]",
      "text/plain": [
       "<Figure size 432x288 with 1 Axes>"
      ]
     },
     "metadata": {
      "needs_background": "light"
     },
     "output_type": "display_data"
    }
   ],
   "source": [
    "mask= xtest[90].reshape(128,128)\n",
    "plt.imshow(mask)\n",
    "plt.show"
   ]
  },
  {
   "cell_type": "code",
   "execution_count": 22,
   "id": "46ee67ce",
   "metadata": {
    "execution": {
     "iopub.execute_input": "2022-05-13T20:09:35.834191Z",
     "iopub.status.busy": "2022-05-13T20:09:35.833977Z",
     "iopub.status.idle": "2022-05-13T20:09:36.043214Z",
     "shell.execute_reply": "2022-05-13T20:09:36.042528Z"
    },
    "papermill": {
     "duration": 0.247191,
     "end_time": "2022-05-13T20:09:36.045051",
     "exception": false,
     "start_time": "2022-05-13T20:09:35.797860",
     "status": "completed"
    },
    "tags": []
   },
   "outputs": [
    {
     "name": "stdout",
     "output_type": "stream",
     "text": [
      "              precision    recall  f1-score   support\n",
      "\n",
      "           0       0.88      0.96      0.92      1260\n",
      "           1       0.95      0.86      0.91      1240\n",
      "\n",
      "    accuracy                           0.91      2500\n",
      "   macro avg       0.92      0.91      0.91      2500\n",
      "weighted avg       0.91      0.91      0.91      2500\n",
      "\n"
     ]
    },
    {
     "data": {
      "image/png": "[encoded data removed]",
      "text/plain": [
       "<Figure size 648x648 with 2 Axes>"
      ]
     },
     "metadata": {
      "needs_background": "light"
     },
     "output_type": "display_data"
    }
   ],
   "source": [
    "cm = metrics.confusion_matrix(ytest, pred)\n",
    "\n",
    "plt.figure(figsize=(9, 9))\n",
    "sns.heatmap(cm, annot=True, fmt='.0f', square=True, linewidths=.5, cmap='Blues_r')\n",
    "plt.ylabel('Actual Label')\n",
    "plt.xlabel('Predicted Label')\n",
    "\n",
    "print(metrics.classification_report(ytest, pred))"
   ]
  },
  {
   "cell_type": "markdown",
   "id": "012f90b4",
   "metadata": {
    "papermill": {
     "duration": 0.035821,
     "end_time": "2022-05-13T20:09:36.117233",
     "exception": false,
     "start_time": "2022-05-13T20:09:36.081412",
     "status": "completed"
    },
    "tags": []
   },
   "source": [
    "**RF GOOD AT CLASSIFYING 0 WHEREAS SVM GOOD AT CLASSSFYING 1**"
   ]
  },
  {
   "cell_type": "code",
   "execution_count": 23,
   "id": "c9a0daba",
   "metadata": {
    "execution": {
     "iopub.execute_input": "2022-05-13T20:09:36.190984Z",
     "iopub.status.busy": "2022-05-13T20:09:36.190758Z",
     "iopub.status.idle": "2022-05-13T20:20:56.259848Z",
     "shell.execute_reply": "2022-05-13T20:20:56.259079Z"
    },
    "papermill": {
     "duration": 680.108949,
     "end_time": "2022-05-13T20:20:56.262168",
     "exception": false,
     "start_time": "2022-05-13T20:09:36.153219",
     "status": "completed"
    },
    "tags": []
   },
   "outputs": [],
   "source": [
    "all_models = [model, rf]\n",
    "s_train, s_test = stacking(all_models, xtrain, ytrain, xtest ,shuffle = True, n_folds=4)"
   ]
  },
  {
   "cell_type": "code",
   "execution_count": 24,
   "id": "0075c37d",
   "metadata": {
    "execution": {
     "iopub.execute_input": "2022-05-13T20:20:56.336455Z",
     "iopub.status.busy": "2022-05-13T20:20:56.335760Z",
     "iopub.status.idle": "2022-05-13T20:20:56.568964Z",
     "shell.execute_reply": "2022-05-13T20:20:56.568203Z"
    },
    "papermill": {
     "duration": 0.272164,
     "end_time": "2022-05-13T20:20:56.571052",
     "exception": false,
     "start_time": "2022-05-13T20:20:56.298888",
     "status": "completed"
    },
    "tags": []
   },
   "outputs": [],
   "source": [
    "final_model = model\n",
    "final_model = final_model.fit(s_train, ytrain)"
   ]
  },
  {
   "cell_type": "code",
   "execution_count": 25,
   "id": "b8ff8729",
   "metadata": {
    "execution": {
     "iopub.execute_input": "2022-05-13T20:20:56.645487Z",
     "iopub.status.busy": "2022-05-13T20:20:56.644790Z",
     "iopub.status.idle": "2022-05-13T20:20:56.860928Z",
     "shell.execute_reply": "2022-05-13T20:20:56.859856Z"
    },
    "papermill": {
     "duration": 0.254899,
     "end_time": "2022-05-13T20:20:56.862740",
     "exception": true,
     "start_time": "2022-05-13T20:20:56.607841",
     "status": "failed"
    },
    "tags": []
   },
   "outputs": [
    {
     "ename": "ValueError",
     "evalue": "X has 16384 features, but SVC is expecting 2 features as input.",
     "output_type": "error",
     "traceback": [
      "\u001b[0;31m---------------------------------------------------------------------------\u001b[0m",
      "\u001b[0;31mValueError\u001b[0m                                Traceback (most recent call last)",
      "\u001b[0;32m/tmp/ipykernel_23/2746603050.py\u001b[0m in \u001b[0;36m<module>\u001b[0;34m\u001b[0m\n\u001b[0;32m----> 1\u001b[0;31m \u001b[0mpred_final\u001b[0m \u001b[0;34m=\u001b[0m \u001b[0mfinal_model\u001b[0m\u001b[0;34m.\u001b[0m\u001b[0mpredict\u001b[0m\u001b[0;34m(\u001b[0m\u001b[0mxtest\u001b[0m\u001b[0;34m)\u001b[0m\u001b[0;34m\u001b[0m\u001b[0;34m\u001b[0m\u001b[0m\n\u001b[0m\u001b[1;32m      2\u001b[0m \u001b[0mprint\u001b[0m\u001b[0;34m(\u001b[0m\u001b[0mpred_final\u001b[0m\u001b[0;34m[\u001b[0m\u001b[0;36m26\u001b[0m\u001b[0;34m]\u001b[0m\u001b[0;34m)\u001b[0m\u001b[0;34m\u001b[0m\u001b[0;34m\u001b[0m\u001b[0m\n",
      "\u001b[0;32m/opt/conda/lib/python3.7/site-packages/sklearn/svm/_base.py\u001b[0m in \u001b[0;36mpredict\u001b[0;34m(self, X)\u001b[0m\n\u001b[1;32m    789\u001b[0m             \u001b[0my\u001b[0m \u001b[0;34m=\u001b[0m \u001b[0mnp\u001b[0m\u001b[0;34m.\u001b[0m\u001b[0margmax\u001b[0m\u001b[0;34m(\u001b[0m\u001b[0mself\u001b[0m\u001b[0;34m.\u001b[0m\u001b[0mdecision_function\u001b[0m\u001b[0;34m(\u001b[0m\u001b[0mX\u001b[0m\u001b[0;34m)\u001b[0m\u001b[0;34m,\u001b[0m \u001b[0maxis\u001b[0m\u001b[0;34m=\u001b[0m\u001b[0;36m1\u001b[0m\u001b[0;34m)\u001b[0m\u001b[0;34m\u001b[0m\u001b[0;34m\u001b[0m\u001b[0m\n\u001b[1;32m    790\u001b[0m         \u001b[0;32melse\u001b[0m\u001b[0;34m:\u001b[0m\u001b[0;34m\u001b[0m\u001b[0;34m\u001b[0m\u001b[0m\n\u001b[0;32m--> 791\u001b[0;31m             \u001b[0my\u001b[0m \u001b[0;34m=\u001b[0m \u001b[0msuper\u001b[0m\u001b[0;34m(\u001b[0m\u001b[0;34m)\u001b[0m\u001b[0;34m.\u001b[0m\u001b[0mpredict\u001b[0m\u001b[0;34m(\u001b[0m\u001b[0mX\u001b[0m\u001b[0;34m)\u001b[0m\u001b[0;34m\u001b[0m\u001b[0;34m\u001b[0m\u001b[0m\n\u001b[0m\u001b[1;32m    792\u001b[0m         \u001b[0;32mreturn\u001b[0m \u001b[0mself\u001b[0m\u001b[0;34m.\u001b[0m\u001b[0mclasses_\u001b[0m\u001b[0;34m.\u001b[0m\u001b[0mtake\u001b[0m\u001b[0;34m(\u001b[0m\u001b[0mnp\u001b[0m\u001b[0;34m.\u001b[0m\u001b[0masarray\u001b[0m\u001b[0;34m(\u001b[0m\u001b[0my\u001b[0m\u001b[0;34m,\u001b[0m \u001b[0mdtype\u001b[0m\u001b[0;34m=\u001b[0m\u001b[0mnp\u001b[0m\u001b[0;34m.\u001b[0m\u001b[0mintp\u001b[0m\u001b[0;34m)\u001b[0m\u001b[0;34m)\u001b[0m\u001b[0;34m\u001b[0m\u001b[0;34m\u001b[0m\u001b[0m\n\u001b[1;32m    793\u001b[0m \u001b[0;34m\u001b[0m\u001b[0m\n",
      "\u001b[0;32m/opt/conda/lib/python3.7/site-packages/sklearn/svm/_base.py\u001b[0m in \u001b[0;36mpredict\u001b[0;34m(self, X)\u001b[0m\n\u001b[1;32m    412\u001b[0m             \u001b[0mThe\u001b[0m \u001b[0mpredicted\u001b[0m \u001b[0mvalues\u001b[0m\u001b[0;34m.\u001b[0m\u001b[0;34m\u001b[0m\u001b[0;34m\u001b[0m\u001b[0m\n\u001b[1;32m    413\u001b[0m         \"\"\"\n\u001b[0;32m--> 414\u001b[0;31m         \u001b[0mX\u001b[0m \u001b[0;34m=\u001b[0m \u001b[0mself\u001b[0m\u001b[0;34m.\u001b[0m\u001b[0m_validate_for_predict\u001b[0m\u001b[0;34m(\u001b[0m\u001b[0mX\u001b[0m\u001b[0;34m)\u001b[0m\u001b[0;34m\u001b[0m\u001b[0;34m\u001b[0m\u001b[0m\n\u001b[0m\u001b[1;32m    415\u001b[0m         \u001b[0mpredict\u001b[0m \u001b[0;34m=\u001b[0m \u001b[0mself\u001b[0m\u001b[0;34m.\u001b[0m\u001b[0m_sparse_predict\u001b[0m \u001b[0;32mif\u001b[0m \u001b[0mself\u001b[0m\u001b[0;34m.\u001b[0m\u001b[0m_sparse\u001b[0m \u001b[0;32melse\u001b[0m \u001b[0mself\u001b[0m\u001b[0;34m.\u001b[0m\u001b[0m_dense_predict\u001b[0m\u001b[0;34m\u001b[0m\u001b[0;34m\u001b[0m\u001b[0m\n\u001b[1;32m    416\u001b[0m         \u001b[0;32mreturn\u001b[0m \u001b[0mpredict\u001b[0m\u001b[0;34m(\u001b[0m\u001b[0mX\u001b[0m\u001b[0;34m)\u001b[0m\u001b[0;34m\u001b[0m\u001b[0;34m\u001b[0m\u001b[0m\n",
      "\u001b[0;32m/opt/conda/lib/python3.7/site-packages/sklearn/svm/_base.py\u001b[0m in \u001b[0;36m_validate_for_predict\u001b[0;34m(self, X)\u001b[0m\n\u001b[1;32m    596\u001b[0m                 \u001b[0morder\u001b[0m\u001b[0;34m=\u001b[0m\u001b[0;34m\"C\"\u001b[0m\u001b[0;34m,\u001b[0m\u001b[0;34m\u001b[0m\u001b[0;34m\u001b[0m\u001b[0m\n\u001b[1;32m    597\u001b[0m                 \u001b[0maccept_large_sparse\u001b[0m\u001b[0;34m=\u001b[0m\u001b[0;32mFalse\u001b[0m\u001b[0;34m,\u001b[0m\u001b[0;34m\u001b[0m\u001b[0;34m\u001b[0m\u001b[0m\n\u001b[0;32m--> 598\u001b[0;31m                 \u001b[0mreset\u001b[0m\u001b[0;34m=\u001b[0m\u001b[0;32mFalse\u001b[0m\u001b[0;34m,\u001b[0m\u001b[0;34m\u001b[0m\u001b[0;34m\u001b[0m\u001b[0m\n\u001b[0m\u001b[1;32m    599\u001b[0m             )\n\u001b[1;32m    600\u001b[0m \u001b[0;34m\u001b[0m\u001b[0m\n",
      "\u001b[0;32m/opt/conda/lib/python3.7/site-packages/sklearn/base.py\u001b[0m in \u001b[0;36m_validate_data\u001b[0;34m(self, X, y, reset, validate_separately, **check_params)\u001b[0m\n\u001b[1;32m    583\u001b[0m \u001b[0;34m\u001b[0m\u001b[0m\n\u001b[1;32m    584\u001b[0m         \u001b[0;32mif\u001b[0m \u001b[0;32mnot\u001b[0m \u001b[0mno_val_X\u001b[0m \u001b[0;32mand\u001b[0m \u001b[0mcheck_params\u001b[0m\u001b[0;34m.\u001b[0m\u001b[0mget\u001b[0m\u001b[0;34m(\u001b[0m\u001b[0;34m\"ensure_2d\"\u001b[0m\u001b[0;34m,\u001b[0m \u001b[0;32mTrue\u001b[0m\u001b[0;34m)\u001b[0m\u001b[0;34m:\u001b[0m\u001b[0;34m\u001b[0m\u001b[0;34m\u001b[0m\u001b[0m\n\u001b[0;32m--> 585\u001b[0;31m             \u001b[0mself\u001b[0m\u001b[0;34m.\u001b[0m\u001b[0m_check_n_features\u001b[0m\u001b[0;34m(\u001b[0m\u001b[0mX\u001b[0m\u001b[0;34m,\u001b[0m \u001b[0mreset\u001b[0m\u001b[0;34m=\u001b[0m\u001b[0mreset\u001b[0m\u001b[0;34m)\u001b[0m\u001b[0;34m\u001b[0m\u001b[0;34m\u001b[0m\u001b[0m\n\u001b[0m\u001b[1;32m    586\u001b[0m \u001b[0;34m\u001b[0m\u001b[0m\n\u001b[1;32m    587\u001b[0m         \u001b[0;32mreturn\u001b[0m \u001b[0mout\u001b[0m\u001b[0;34m\u001b[0m\u001b[0;34m\u001b[0m\u001b[0m\n",
      "\u001b[0;32m/opt/conda/lib/python3.7/site-packages/sklearn/base.py\u001b[0m in \u001b[0;36m_check_n_features\u001b[0;34m(self, X, reset)\u001b[0m\n\u001b[1;32m    399\u001b[0m         \u001b[0;32mif\u001b[0m \u001b[0mn_features\u001b[0m \u001b[0;34m!=\u001b[0m \u001b[0mself\u001b[0m\u001b[0;34m.\u001b[0m\u001b[0mn_features_in_\u001b[0m\u001b[0;34m:\u001b[0m\u001b[0;34m\u001b[0m\u001b[0;34m\u001b[0m\u001b[0m\n\u001b[1;32m    400\u001b[0m             raise ValueError(\n\u001b[0;32m--> 401\u001b[0;31m                 \u001b[0;34mf\"X has {n_features} features, but {self.__class__.__name__} \"\u001b[0m\u001b[0;34m\u001b[0m\u001b[0;34m\u001b[0m\u001b[0m\n\u001b[0m\u001b[1;32m    402\u001b[0m                 \u001b[0;34mf\"is expecting {self.n_features_in_} features as input.\"\u001b[0m\u001b[0;34m\u001b[0m\u001b[0;34m\u001b[0m\u001b[0m\n\u001b[1;32m    403\u001b[0m             )\n",
      "\u001b[0;31mValueError\u001b[0m: X has 16384 features, but SVC is expecting 2 features as input."
     ]
    }
   ],
   "source": [
    "pred_final = final_model.predict(xtest)\n",
    "print(pred_final[26])"
   ]
  },
  {
   "cell_type": "code",
   "execution_count": null,
   "id": "e1f743f8",
   "metadata": {
    "execution": {
     "iopub.execute_input": "2022-05-13T18:55:25.104422Z",
     "iopub.status.busy": "2022-05-13T18:55:25.103956Z",
     "iopub.status.idle": "2022-05-13T18:55:25.308939Z",
     "shell.execute_reply": "2022-05-13T18:55:25.308285Z",
     "shell.execute_reply.started": "2022-05-13T18:55:25.104382Z"
    },
    "papermill": {
     "duration": null,
     "end_time": null,
     "exception": null,
     "start_time": null,
     "status": "pending"
    },
    "tags": []
   },
   "outputs": [],
   "source": [
    "mask= xtest[26].reshape(128,128)\n",
    "plt.imshow(mask)\n",
    "plt.show"
   ]
  },
  {
   "cell_type": "code",
   "execution_count": null,
   "id": "002925a4",
   "metadata": {
    "papermill": {
     "duration": null,
     "end_time": null,
     "exception": null,
     "start_time": null,
     "status": "pending"
    },
    "tags": []
   },
   "outputs": [],
   "source": [
    "cm = metrics.confusion_matrix(s_test, pred_final)\n",
    "\n",
    "plt.figure(figsize=(9, 9))\n",
    "sns.heatmap(cm, annot=True, fmt='.0f', square=True, linewidths=.5, cmap='Blues_r')\n",
    "plt.ylabel('Actual Label')\n",
    "plt.xlabel('Predicted Label')\n",
    "\n",
    "print(metrics.classification_report(s_test, pred_final))"
   ]
  },
  {
   "cell_type": "code",
   "execution_count": null,
   "id": "5c5afd57",
   "metadata": {
    "execution": {
     "iopub.execute_input": "2022-05-13T19:32:29.203147Z",
     "iopub.status.busy": "2022-05-13T19:32:29.202545Z",
     "iopub.status.idle": "2022-05-13T19:44:38.333059Z",
     "shell.execute_reply": "2022-05-13T19:44:38.332354Z",
     "shell.execute_reply.started": "2022-05-13T19:32:29.203105Z"
    },
    "papermill": {
     "duration": null,
     "end_time": null,
     "exception": null,
     "start_time": null,
     "status": "pending"
    },
    "tags": []
   },
   "outputs": [],
   "source": [
    "xgb = XGBClassifier()\n",
    "xgb.fit(xtrain, ytrain)"
   ]
  },
  {
   "cell_type": "code",
   "execution_count": null,
   "id": "e50e8239",
   "metadata": {
    "execution": {
     "iopub.execute_input": "2022-05-13T19:44:49.632185Z",
     "iopub.status.busy": "2022-05-13T19:44:49.631471Z",
     "iopub.status.idle": "2022-05-13T19:44:50.673948Z",
     "shell.execute_reply": "2022-05-13T19:44:50.673070Z",
     "shell.execute_reply.started": "2022-05-13T19:44:49.632146Z"
    },
    "papermill": {
     "duration": null,
     "end_time": null,
     "exception": null,
     "start_time": null,
     "status": "pending"
    },
    "tags": []
   },
   "outputs": [],
   "source": [
    "pred_boost = xgb.predict(xtest)"
   ]
  },
  {
   "cell_type": "code",
   "execution_count": null,
   "id": "9bb1e4fa",
   "metadata": {
    "execution": {
     "iopub.execute_input": "2022-05-13T20:01:55.326796Z",
     "iopub.status.busy": "2022-05-13T20:01:55.326295Z",
     "iopub.status.idle": "2022-05-13T20:01:55.332297Z",
     "shell.execute_reply": "2022-05-13T20:01:55.331310Z",
     "shell.execute_reply.started": "2022-05-13T20:01:55.326756Z"
    },
    "papermill": {
     "duration": null,
     "end_time": null,
     "exception": null,
     "start_time": null,
     "status": "pending"
    },
    "tags": []
   },
   "outputs": [],
   "source": [
    "print(pred_boost[45])"
   ]
  },
  {
   "cell_type": "code",
   "execution_count": null,
   "id": "8a007476",
   "metadata": {
    "execution": {
     "iopub.execute_input": "2022-05-13T20:02:10.698852Z",
     "iopub.status.busy": "2022-05-13T20:02:10.698320Z",
     "iopub.status.idle": "2022-05-13T20:02:10.907910Z",
     "shell.execute_reply": "2022-05-13T20:02:10.907264Z",
     "shell.execute_reply.started": "2022-05-13T20:02:10.698813Z"
    },
    "papermill": {
     "duration": null,
     "end_time": null,
     "exception": null,
     "start_time": null,
     "status": "pending"
    },
    "tags": []
   },
   "outputs": [],
   "source": [
    "mask = xtest[45].reshape(128,128)\n",
    "plt.imshow(mask)\n",
    "plt.show"
   ]
  },
  {
   "cell_type": "code",
   "execution_count": null,
   "id": "bebe4578",
   "metadata": {
    "execution": {
     "iopub.execute_input": "2022-05-13T19:44:56.680006Z",
     "iopub.status.busy": "2022-05-13T19:44:56.679224Z",
     "iopub.status.idle": "2022-05-13T19:44:56.914312Z",
     "shell.execute_reply": "2022-05-13T19:44:56.913631Z",
     "shell.execute_reply.started": "2022-05-13T19:44:56.679957Z"
    },
    "papermill": {
     "duration": null,
     "end_time": null,
     "exception": null,
     "start_time": null,
     "status": "pending"
    },
    "tags": []
   },
   "outputs": [],
   "source": [
    "cm = metrics.confusion_matrix(ytest, pred_boost)\n",
    "\n",
    "plt.figure(figsize=(9, 9))\n",
    "sns.heatmap(cm, annot=True, fmt='.0f', square=True, linewidths=.5, cmap='Blues_r')\n",
    "plt.ylabel('Actual Label')\n",
    "plt.xlabel('Predicted Label')\n",
    "\n",
    "print(metrics.classification_report(ytest, pred_boost))"
   ]
  },
  {
   "cell_type": "code",
   "execution_count": null,
   "id": "c92e1713",
   "metadata": {
    "execution": {
     "iopub.execute_input": "2022-05-13T19:57:24.130521Z",
     "iopub.status.busy": "2022-05-13T19:57:24.130234Z"
    },
    "papermill": {
     "duration": null,
     "end_time": null,
     "exception": null,
     "start_time": null,
     "status": "pending"
    },
    "tags": []
   },
   "outputs": [],
   "source": [
    "from sklearn.ensemble import VotingClassifier\n",
    "ensemble=VotingClassifier(estimators=[('Support Vector Machine', model), ('Random Forest',rf)], voting='soft', weights=[2,1]).fit(xtrain,ytrain)\n",
    "print('The accuracy for DecisionTree and Random Forest is:',ensemble.score(xtest,ytest))"
   ]
  }
 ],
 "metadata": {
  "kernelspec": {
   "display_name": "Python 3",
   "language": "python",
   "name": "python3"
  },
  "language_info": {
   "codemirror_mode": {
    "name": "ipython",
    "version": 3
   },
   "file_extension": ".py",
   "mimetype": "text/x-python",
   "name": "python",
   "nbconvert_exporter": "python",
   "pygments_lexer": "ipython3",
   "version": "3.7.12"
  },
  "papermill": {
   "default_parameters": {},
   "duration": 1014.352193,
   "end_time": "2022-05-13T20:20:57.519467",
   "environment_variables": {},
   "exception": true,
   "input_path": "__notebook__.ipynb",
   "output_path": "__notebook__.ipynb",
   "parameters": {},
   "start_time": "2022-05-13T20:04:03.167274",
   "version": "2.3.4"
  }
 },
 "nbformat": 4,
 "nbformat_minor": 5
}
